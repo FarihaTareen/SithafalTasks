{
 "cells": [
  {
   "cell_type": "code",
   "execution_count": 1,
   "id": "68007fbe-7711-4f6b-88d0-ee6653962911",
   "metadata": {},
   "outputs": [
    {
     "name": "stdout",
     "output_type": "stream",
     "text": [
      "Requirement already satisfied: requests in c:\\users\\dell\\appdata\\roaming\\python\\python312\\site-packages (2.32.3)\n",
      "Requirement already satisfied: beautifulsoup4 in c:\\users\\dell\\appdata\\roaming\\python\\python312\\site-packages (4.12.3)\n",
      "Requirement already satisfied: charset-normalizer<4,>=2 in c:\\users\\dell\\appdata\\roaming\\python\\python312\\site-packages (from requests) (3.3.2)\n",
      "Requirement already satisfied: idna<4,>=2.5 in c:\\users\\dell\\appdata\\roaming\\python\\python312\\site-packages (from requests) (3.8)\n",
      "Requirement already satisfied: urllib3<3,>=1.21.1 in c:\\users\\dell\\appdata\\roaming\\python\\python312\\site-packages (from requests) (2.2.2)\n",
      "Requirement already satisfied: certifi>=2017.4.17 in c:\\users\\dell\\appdata\\roaming\\python\\python312\\site-packages (from requests) (2024.8.30)\n",
      "Requirement already satisfied: soupsieve>1.2 in c:\\users\\dell\\appdata\\roaming\\python\\python312\\site-packages (from beautifulsoup4) (2.6)\n"
     ]
    }
   ],
   "source": [
    "!pip install requests beautifulsoup4\n",
    "\n"
   ]
  },
  {
   "cell_type": "code",
   "execution_count": 2,
   "id": "5479d132-f78c-4096-a955-4742a44752a9",
   "metadata": {},
   "outputs": [
    {
     "name": "stdout",
     "output_type": "stream",
     "text": [
      "Request error occurred: 403 Client Error: Forbidden for url: https://www.uchicago.edu/\n",
      "Successfully scraped content from https://www.washington.edu/\n",
      "Successfully scraped content from https://www.stanford.edu/\n",
      "Successfully scraped content from https://und.edu/\n"
     ]
    },
    {
     "name": "stdin",
     "output_type": "stream",
     "text": [
      "Enter your query:  programs\n"
     ]
    },
    {
     "name": "stdout",
     "output_type": "stream",
     "text": [
      "\n",
      "Results found\n",
      "\n",
      "From (url):\n",
      "Stanford University Skip to content Stanford University Information for: Students Faculty & Staff Families Visitors Alumni Search Menu News Events Academics Research Health Care Campus Life Admission ...\n",
      "\n",
      "From (url):\n",
      "UND | Grand Forks, ND | University of North Dakota Skip to main content Open Menu Close Menu University of North Dakota Open Search Close Search University of North Dakota Info For Admitted Students C...\n"
     ]
    }
   ],
   "source": [
    "\n",
    "import requests\n",
    "from bs4 import BeautifulSoup\n",
    "\n",
    "def fetch_website_content(url):\n",
    "    headers = {\n",
    "         'User-Agent': 'Mozilla/5.0 (Windows NT 10.0; Win64; x64) AppleWebKit/537.36 (KHTML, like Gecko) Chrome/91.0.4472.124 Safari/537.36',\n",
    "        'Accept': 'text/html,application/xhtml+xml,application/xml;q=0.9,image/webp,*/*;q=0.8',\n",
    "        'Accept-Language': 'en-US,en;q=0.5',\n",
    "        'Accept-Encoding': 'gzip, deflate, br',\n",
    "        'Connection': 'keep-alive',\n",
    "        'Upgrade-Insecure-Requests': '1',\n",
    "        'Cache-Control': 'max-age=0',\n",
    "    }    \n",
    " #fetches and returns the text content of a site.\n",
    "    try:\n",
    "        response = requests.get(url, timeout=10)\n",
    "        response.raise_for_status() \n",
    "        soup = BeautifulSoup(response.text, 'html.parser')\n",
    "        return soup.get_text(separator=' ', strip=True)\n",
    "    \n",
    "    except requests.exceptions.SSLError as ssl_err:\n",
    "        print(f\"SSL error occurred: {ssl_err}\")\n",
    "    \n",
    "    except requests.exceptions.RequestException as req_err:\n",
    "        print(f\"Request error occurred: {req_err}\")\n",
    "    \n",
    "    except Exception as e:\n",
    "        print(f\"An error occurred: {e}\")\n",
    "\n",
    "def search_in_content(query, content_dict):\n",
    "    #Searches for a query in the scraped content and returns matching results.\n",
    "   matches=[]\n",
    "   for url, content in content_dict.items():\n",
    "       if query.lower() in content.lower():\n",
    "           matches.append((url, content))\n",
    "   return matches\n",
    "websites=[\n",
    "   \"https://www.uchicago.edu/\",\n",
    "\n",
    "   \"https://www.washington.edu/\",\n",
    "\n",
    "   \"https://www.stanford.edu/\",\n",
    "\n",
    "   \"https://und.edu/\"\n",
    "]\n",
    "scraped_content = {}\n",
    "for website in websites:\n",
    "  content=fetch_website_content(website)\n",
    "  if content:\n",
    "     print(f\"Successfully scraped content from {website}\")\n",
    "     scraped_content[website]= content\n",
    "query_input= input(\"Enter your query: \")\n",
    "search_results= search_in_content(query_input, scraped_content)\n",
    "if search_results:\n",
    "    print(\"\\nResults found\")\n",
    "    for url, content in search_results:\n",
    "       print(f\"\\nFrom (url):\\n{content[:200]}...\")\n",
    "else:\n",
    "   print(\"No results found for your query.\")"
   ]
  },
  {
   "cell_type": "code",
   "execution_count": null,
   "id": "a21fd076-bfde-439a-b1c8-3164cc886ac3",
   "metadata": {},
   "outputs": [],
   "source": []
  },
  {
   "cell_type": "code",
   "execution_count": null,
   "id": "921cf9e2-2576-4631-af7c-68277d84afc4",
   "metadata": {},
   "outputs": [],
   "source": []
  }
 ],
 "metadata": {
  "kernelspec": {
   "display_name": "Python 3 (ipykernel)",
   "language": "python",
   "name": "python3"
  },
  "language_info": {
   "codemirror_mode": {
    "name": "ipython",
    "version": 3
   },
   "file_extension": ".py",
   "mimetype": "text/x-python",
   "name": "python",
   "nbconvert_exporter": "python",
   "pygments_lexer": "ipython3",
   "version": "3.12.3"
  }
 },
 "nbformat": 4,
 "nbformat_minor": 5
}
